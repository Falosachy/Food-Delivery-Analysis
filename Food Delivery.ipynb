{
 "cells": [
  {
   "cell_type": "code",
   "execution_count": 18,
   "id": "21e5d6a6-dd6f-4c9f-aeb0-44e6bac9de0f",
   "metadata": {},
   "outputs": [
    {
     "name": "stdout",
     "output_type": "stream",
     "text": [
      "  Delivery Area order_time delivery_time delivery_duration delivery_rating\n",
      "0       Fremont      02:52         03:35             00:43        Moderate\n",
      "1       Hayward      15:58         18:57             02:58       Very Slow\n",
      "2       Hayward      19:02         19:31             00:28            Fast\n",
      "3    Union City      04:01         04:37             00:36        Moderate\n",
      "4       Hayward      23:46         00:37             00:50        Moderate\n"
     ]
    }
   ],
   "source": [
    "import pandas as pd\n",
    "\n",
    "# Load dataset\n",
    "df = pd.read_csv(r'C:\\Users\\Emmanuel\\Desktop\\Data Science Project\\Food-Delivery (1).csv', encoding='latin1')\n",
    "\n",
    "# Convert to timedelta\n",
    "df['order_time'] = pd.to_timedelta(df['Time customer placed order'].astype(str), errors='coerce')\n",
    "df['delivery_time'] = pd.to_timedelta(df['Delivery time'].astype(str), errors='coerce')\n",
    "\n",
    "# Compute delivery duration in minutes\n",
    "df['delivery_duration_mins'] = (df['delivery_time'] - df['order_time']).dt.total_seconds() / 60\n",
    "df.loc[df['delivery_duration_mins'] < 0, 'delivery_duration_mins'] += 1440  # handle overnight wrap-around\n",
    "\n",
    "# Format order_time and delivery_time to HH:MM\n",
    "df['order_time'] = df['order_time'].apply(lambda x: f\"{int(x.total_seconds() // 3600):02}:{int((x.total_seconds() % 3600) // 60):02}\")\n",
    "df['delivery_time'] = df['delivery_time'].apply(lambda x: f\"{int(x.total_seconds() // 3600):02}:{int((x.total_seconds() % 3600) // 60):02}\")\n",
    "\n",
    "# Format delivery duration as HH:MM\n",
    "df['delivery_duration'] = df['delivery_duration_mins'].apply(lambda x: f\"{int(x // 60):02}:{int(x % 60):02}\")\n",
    "\n",
    "# Classify delivery speed\n",
    "def classify_delivery_speed(mins):\n",
    "    if mins <= 30:\n",
    "        return 'Fast'\n",
    "    elif mins <= 60:\n",
    "        return 'Moderate'\n",
    "    elif mins <= 90:\n",
    "        return 'Slow'\n",
    "    else:\n",
    "        return 'Very Slow'\n",
    "\n",
    "df['delivery_rating'] = df['delivery_duration_mins'].apply(lambda x: classify_delivery_speed(int(x)))\n",
    "\n",
    "# Drop raw duration in minutes if not needed\n",
    "df.drop(columns=['delivery_duration_mins'], inplace=True)\n",
    "\n",
    "# Save to final file\n",
    "df.to_csv(\"Food Delivery Final Format.csv\", index=False)\n",
    "\n",
    "# Optional: Preview result\n",
    "print(df[['Delivery Area', 'order_time', 'delivery_time', 'delivery_duration', 'delivery_rating']].head())\n"
   ]
  },
  {
   "cell_type": "code",
   "execution_count": null,
   "id": "1c8d6de6-acd3-470d-b8a1-4d436ffe5d36",
   "metadata": {},
   "outputs": [],
   "source": []
  },
  {
   "cell_type": "code",
   "execution_count": null,
   "id": "9f6eee43-2cdc-44bf-b8af-8db1acec584d",
   "metadata": {},
   "outputs": [],
   "source": []
  }
 ],
 "metadata": {
  "kernelspec": {
   "display_name": "Python [conda env:base] *",
   "language": "python",
   "name": "conda-base-py"
  },
  "language_info": {
   "codemirror_mode": {
    "name": "ipython",
    "version": 3
   },
   "file_extension": ".py",
   "mimetype": "text/x-python",
   "name": "python",
   "nbconvert_exporter": "python",
   "pygments_lexer": "ipython3",
   "version": "3.12.7"
  }
 },
 "nbformat": 4,
 "nbformat_minor": 5
}
